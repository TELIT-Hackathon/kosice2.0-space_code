{
 "cells": [
  {
   "cell_type": "code",
   "execution_count": 1,
   "outputs": [],
   "source": [
    "import pandas as pd\n",
    "import os"
   ],
   "metadata": {
    "collapsed": false
   }
  },
  {
   "cell_type": "code",
   "execution_count": 7,
   "outputs": [
    {
     "data": {
      "text/plain": "{'FID',\n 'adresa',\n 'geom',\n 'nazov',\n 'obec',\n 'okres',\n 'psc',\n 'tel_kontak',\n 'typ',\n 'zriadovate'}"
     },
     "execution_count": 7,
     "metadata": {},
     "output_type": "execute_result"
    }
   ],
   "source": [
    "dataset_path = \"_data\"\n",
    "filename = \"culture_1.csv\"\n",
    "df_culture1  = pd.read_csv(os.path.join(dataset_path,filename))\n",
    "set(df_culture1.columns)"
   ],
   "metadata": {
    "collapsed": false
   }
  },
  {
   "cell_type": "code",
   "execution_count": 6,
   "outputs": [
    {
     "data": {
      "text/plain": "{'FID',\n 'adresa',\n 'category',\n 'display_na',\n 'geom',\n 'kantaktna_',\n 'latlong',\n 'mesto',\n 'nazov',\n 'osm_id',\n 'psc',\n 'result_num',\n 'tel_kont_1',\n 'tel_kontak',\n 'typ',\n 'type',\n 'web',\n 'zriadovate'}"
     },
     "execution_count": 6,
     "metadata": {},
     "output_type": "execute_result"
    }
   ],
   "source": [
    "dataset_path = \"_data\"\n",
    "filename = \"culture_2.csv\"\n",
    "df_culture2  = pd.read_csv(os.path.join(dataset_path,filename))\n",
    "set(df_culture2.columns)"
   ],
   "metadata": {
    "collapsed": false
   }
  },
  {
   "cell_type": "code",
   "execution_count": 10,
   "outputs": [
    {
     "data": {
      "text/plain": "                              FID  \\\n0      kulturne_iny_zriadovatel.1   \n1      kulturne_iny_zriadovatel.2   \n2      kulturne_iny_zriadovatel.3   \n3      kulturne_iny_zriadovatel.4   \n4      kulturne_iny_zriadovatel.5   \n..                            ...   \n213  kulturne_iny_zriadovatel.214   \n214  kulturne_iny_zriadovatel.215   \n215  kulturne_iny_zriadovatel.216   \n216  kulturne_iny_zriadovatel.217   \n217  kulturne_iny_zriadovatel.218   \n\n                                                geom                obec  \\\n0     POINT (-262968.9261006964 -1239657.6595879425)              Košice   \n1    POINT (-262825.90065558144 -1239319.2040254537)              Košice   \n2    POINT (-285897.61315514334 -1223861.8350453726)             Gelnica   \n3    POINT (-265812.16635050334 -1239967.3300287174)              Košice   \n4      POINT (-264047.2002519906 -1241918.921337098)              Košice   \n..                                               ...                 ...   \n213  POINT (-331160.36044148233 -1228549.1177048062)         Vyšná Slaná   \n214   POINT (-216368.7983812538 -1268793.2512290778)               Zatín   \n215  POINT (-240466.12371191612 -1248898.5706723963)  Zemplínska Teplica   \n216    POINT (-281101.0355197611 -1235163.277917634)          Zlatá Idka   \n217  POINT (-256747.19583566932 -1253023.5428555869)               Ždaňa   \n\n                            zriadovate       typ  \\\n0    Mestská časť Košice – Staré Mesto   galéria   \n1              Ministerstvo kultúry SR    múzeum   \n2                        Mesto Gelnica    múzeum   \n3                Juraj Barla, AMBRÓZIA    múzeum   \n4        CARTHAGO, občianske združenie    múzeum   \n..                                 ...       ...   \n213                   Obec Vyšná Slaná  knižnica   \n214                         Obec Zatín  knižnica   \n215            Obec Zemplínska Teplica  knižnica   \n216                    Obec Zlatá Idka  knižnica   \n217                         Obec Ždaňa  knižnica   \n\n                                  nazov            okres     tel_kontak  \\\n0              Múzeum Vojtecha Löfflera           Košice    055/6223234   \n1            Slovenské technické múzeum           Košice  +421556224035   \n2                Banícke múzeum Gelnica          Gelnica    053/4821468   \n3          Súkromné etnografické múzeum           Košice     0903905903   \n4                        SZILCAR múzeum           Košice     0850123495   \n..                                  ...              ...            ...   \n213                Knižnica Vyšná Slaná          Rožňava     0587940116   \n214               Obecná knižnica Zatín         Trebišov     0566392741   \n215  Obecná knižnica Zemplínska Teplica         Trebišov     0566796222   \n216          Obecná knižnica Zlatá Idka  Košice - okolie     0554669111   \n217               Obecná knižnica Ždaňa  Košice - okolie     0556980021   \n\n                 adresa   psc  \n0          Alžbetina 20  4001  \n1             Hlavná 88  4001  \n2    Banícke námestie 8  5601  \n3          Cottbuská 36  4012  \n4             Alejová 2  4001  \n..                  ...   ...  \n213      Vyšná Slaná 29  4926  \n214       Hlavná 241/45  7653  \n215       Okružná 340/2  7664  \n216      Zlatá Idka 159  4461  \n217      Jarmočná 118/4  4411  \n\n[218 rows x 10 columns]",
      "text/html": "<div>\n<style scoped>\n    .dataframe tbody tr th:only-of-type {\n        vertical-align: middle;\n    }\n\n    .dataframe tbody tr th {\n        vertical-align: top;\n    }\n\n    .dataframe thead th {\n        text-align: right;\n    }\n</style>\n<table border=\"1\" class=\"dataframe\">\n  <thead>\n    <tr style=\"text-align: right;\">\n      <th></th>\n      <th>FID</th>\n      <th>geom</th>\n      <th>obec</th>\n      <th>zriadovate</th>\n      <th>typ</th>\n      <th>nazov</th>\n      <th>okres</th>\n      <th>tel_kontak</th>\n      <th>adresa</th>\n      <th>psc</th>\n    </tr>\n  </thead>\n  <tbody>\n    <tr>\n      <th>0</th>\n      <td>kulturne_iny_zriadovatel.1</td>\n      <td>POINT (-262968.9261006964 -1239657.6595879425)</td>\n      <td>Košice</td>\n      <td>Mestská časť Košice – Staré Mesto</td>\n      <td>galéria</td>\n      <td>Múzeum Vojtecha Löfflera</td>\n      <td>Košice</td>\n      <td>055/6223234</td>\n      <td>Alžbetina 20</td>\n      <td>4001</td>\n    </tr>\n    <tr>\n      <th>1</th>\n      <td>kulturne_iny_zriadovatel.2</td>\n      <td>POINT (-262825.90065558144 -1239319.2040254537)</td>\n      <td>Košice</td>\n      <td>Ministerstvo kultúry SR</td>\n      <td>múzeum</td>\n      <td>Slovenské technické múzeum</td>\n      <td>Košice</td>\n      <td>+421556224035</td>\n      <td>Hlavná 88</td>\n      <td>4001</td>\n    </tr>\n    <tr>\n      <th>2</th>\n      <td>kulturne_iny_zriadovatel.3</td>\n      <td>POINT (-285897.61315514334 -1223861.8350453726)</td>\n      <td>Gelnica</td>\n      <td>Mesto Gelnica</td>\n      <td>múzeum</td>\n      <td>Banícke múzeum Gelnica</td>\n      <td>Gelnica</td>\n      <td>053/4821468</td>\n      <td>Banícke námestie 8</td>\n      <td>5601</td>\n    </tr>\n    <tr>\n      <th>3</th>\n      <td>kulturne_iny_zriadovatel.4</td>\n      <td>POINT (-265812.16635050334 -1239967.3300287174)</td>\n      <td>Košice</td>\n      <td>Juraj Barla, AMBRÓZIA</td>\n      <td>múzeum</td>\n      <td>Súkromné etnografické múzeum</td>\n      <td>Košice</td>\n      <td>0903905903</td>\n      <td>Cottbuská 36</td>\n      <td>4012</td>\n    </tr>\n    <tr>\n      <th>4</th>\n      <td>kulturne_iny_zriadovatel.5</td>\n      <td>POINT (-264047.2002519906 -1241918.921337098)</td>\n      <td>Košice</td>\n      <td>CARTHAGO, občianske združenie</td>\n      <td>múzeum</td>\n      <td>SZILCAR múzeum</td>\n      <td>Košice</td>\n      <td>0850123495</td>\n      <td>Alejová 2</td>\n      <td>4001</td>\n    </tr>\n    <tr>\n      <th>...</th>\n      <td>...</td>\n      <td>...</td>\n      <td>...</td>\n      <td>...</td>\n      <td>...</td>\n      <td>...</td>\n      <td>...</td>\n      <td>...</td>\n      <td>...</td>\n      <td>...</td>\n    </tr>\n    <tr>\n      <th>213</th>\n      <td>kulturne_iny_zriadovatel.214</td>\n      <td>POINT (-331160.36044148233 -1228549.1177048062)</td>\n      <td>Vyšná Slaná</td>\n      <td>Obec Vyšná Slaná</td>\n      <td>knižnica</td>\n      <td>Knižnica Vyšná Slaná</td>\n      <td>Rožňava</td>\n      <td>0587940116</td>\n      <td>Vyšná Slaná 29</td>\n      <td>4926</td>\n    </tr>\n    <tr>\n      <th>214</th>\n      <td>kulturne_iny_zriadovatel.215</td>\n      <td>POINT (-216368.7983812538 -1268793.2512290778)</td>\n      <td>Zatín</td>\n      <td>Obec Zatín</td>\n      <td>knižnica</td>\n      <td>Obecná knižnica Zatín</td>\n      <td>Trebišov</td>\n      <td>0566392741</td>\n      <td>Hlavná 241/45</td>\n      <td>7653</td>\n    </tr>\n    <tr>\n      <th>215</th>\n      <td>kulturne_iny_zriadovatel.216</td>\n      <td>POINT (-240466.12371191612 -1248898.5706723963)</td>\n      <td>Zemplínska Teplica</td>\n      <td>Obec Zemplínska Teplica</td>\n      <td>knižnica</td>\n      <td>Obecná knižnica Zemplínska Teplica</td>\n      <td>Trebišov</td>\n      <td>0566796222</td>\n      <td>Okružná 340/2</td>\n      <td>7664</td>\n    </tr>\n    <tr>\n      <th>216</th>\n      <td>kulturne_iny_zriadovatel.217</td>\n      <td>POINT (-281101.0355197611 -1235163.277917634)</td>\n      <td>Zlatá Idka</td>\n      <td>Obec Zlatá Idka</td>\n      <td>knižnica</td>\n      <td>Obecná knižnica Zlatá Idka</td>\n      <td>Košice - okolie</td>\n      <td>0554669111</td>\n      <td>Zlatá Idka 159</td>\n      <td>4461</td>\n    </tr>\n    <tr>\n      <th>217</th>\n      <td>kulturne_iny_zriadovatel.218</td>\n      <td>POINT (-256747.19583566932 -1253023.5428555869)</td>\n      <td>Ždaňa</td>\n      <td>Obec Ždaňa</td>\n      <td>knižnica</td>\n      <td>Obecná knižnica Ždaňa</td>\n      <td>Košice - okolie</td>\n      <td>0556980021</td>\n      <td>Jarmočná 118/4</td>\n      <td>4411</td>\n    </tr>\n  </tbody>\n</table>\n<p>218 rows × 10 columns</p>\n</div>"
     },
     "execution_count": 10,
     "metadata": {},
     "output_type": "execute_result"
    }
   ],
   "source": [
    "df_culture1"
   ],
   "metadata": {
    "collapsed": false
   }
  },
  {
   "cell_type": "code",
   "execution_count": 11,
   "outputs": [
    {
     "data": {
      "text/plain": "                          FID                                           geom  \\\n0    kulturne_org_zriad_ksk.1            POINT (48.943954 20.56509796425548)   \n1    kulturne_org_zriad_ksk.2                  POINT (48.7198959 21.2591497)   \n2    kulturne_org_zriad_ksk.3  POINT (48.619606909723935 21.721014705063926)   \n3    kulturne_org_zriad_ksk.4   POINT (48.75785204313532 21.924197818518557)   \n4    kulturne_org_zriad_ksk.5         POINT (48.72724805 21.253314604510706)   \n5    kulturne_org_zriad_ksk.6    POINT (48.65674759407828 20.53097975821567)   \n6    kulturne_org_zriad_ksk.7         POINT (48.94485215 20.568610738473684)   \n7    kulturne_org_zriad_ksk.8                  POINT (48.7231234 21.2597069)   \n8    kulturne_org_zriad_ksk.9          POINT (48.6637968 20.532315641666667)   \n9   kulturne_org_zriad_ksk.10                  POINT (48.4278061 21.9760615)   \n10  kulturne_org_zriad_ksk.11                   POINT (48.7572733 21.919886)   \n11  kulturne_org_zriad_ksk.12                  POINT (48.7211666 21.2565603)   \n12  kulturne_org_zriad_ksk.13   POINT (48.660526908444055 20.52662134189322)   \n13  kulturne_org_zriad_ksk.14    POINT (48.75312099267866 21.91131520479822)   \n14  kulturne_org_zriad_ksk.15    POINT (48.62390433833304 21.72057825069175)   \n15  kulturne_org_zriad_ksk.16  POINT (48.945540550000004 20.564791484425143)   \n16  kulturne_org_zriad_ksk.17   POINT (48.727314552067426 21.25327416259429)   \n17  kulturne_org_zriad_ksk.18                    POINT (48.420028 21.980421)   \n18  kulturne_org_zriad_ksk.19   POINT (48.75776144131827 21.924246001449756)   \n19  kulturne_org_zriad_ksk.20  POINT (48.656809490442456 20.530992263018135)   \n20  kulturne_org_zriad_ksk.21            POINT (48.943954 20.56509796425548)   \n21  kulturne_org_zriad_ksk.22         POINT (48.94485215 20.568610738473684)   \n22  kulturne_org_zriad_ksk.23    POINT (48.61957187696647 21.72117513456911)   \n23  kulturne_org_zriad_ksk.24                  POINT (48.7189797 21.2540356)   \n24  kulturne_org_zriad_ksk.25                   POINT (48.7221307 21.262005)   \n25  kulturne_org_zriad_ksk.26                  POINT (48.7183424 21.2566125)   \n26  kulturne_org_zriad_ksk.27                  POINT (48.9429311 20.5714114)   \n\n                  zriadovate                                   typ  \\\n0   Košický samosprávny kraj                               galéria   \n1   Košický samosprávny kraj                               galéria   \n2   Košický samosprávny kraj                                múzeum   \n3   Košický samosprávny kraj                                múzeum   \n4   Košický samosprávny kraj                                múzeum   \n5   Košický samosprávny kraj                                múzeum   \n6   Košický samosprávny kraj                                múzeum   \n7   Košický samosprávny kraj  kultúrne centrá a osvetové strediská   \n8   Košický samosprávny kraj  kultúrne centrá a osvetové strediská   \n9   Košický samosprávny kraj  kultúrne centrá a osvetové strediská   \n10  Košický samosprávny kraj  kultúrne centrá a osvetové strediská   \n11  Košický samosprávny kraj                              knižnica   \n12  Košický samosprávny kraj                              knižnica   \n13  Košický samosprávny kraj                              knižnica   \n14  Košický samosprávny kraj                              knižnica   \n15  Košický samosprávny kraj                              knižnica   \n16  Košický samosprávny kraj                              knižnica   \n17  Košický samosprávny kraj                              knižnica   \n18  Košický samosprávny kraj                              knižnica   \n19  Košický samosprávny kraj                              knižnica   \n20  Košický samosprávny kraj                              knižnica   \n21  Košický samosprávny kraj                              knižnica   \n22  Košický samosprávny kraj                              knižnica   \n23  Košický samosprávny kraj                               divadlo   \n24  Košický samosprávny kraj                               divadlo   \n25  Košický samosprávny kraj                               divadlo   \n26  Košický samosprávny kraj                               divadlo   \n\n                                                nazov  \\\n0                               Galéria umelcov Spiša   \n1                            Východoslovenská galéria   \n2          Múzeum a Kultúrne centrum južného Zemplína   \n3                        Zemplínske múzeum Michalovce   \n4                             Východoslovenské múzeum   \n5                            Banícke múzeum v Rožňave   \n6                   Múzeum Spiša v Spišskej Novej Vsi   \n7                     Centrum kultúry Košického kraja   \n8                         Gemerské osvetové stredisko   \n9             Kultúrne centrum Medzibodrožia a Použia   \n10            Zemplínske kultúrne centrum a hvezdáreň   \n11          Verejná knižnica Jána Bocatia v Košiciach   \n12      Gemerská knižnica Pavla Dobšinského v Rožňave   \n13  Zemplínska knižnica Gorazda Zvonického v Micha...   \n14                    Zemplínska knižnica v Trebišove   \n15                Spišské kultúrne centrum a knižnica   \n16           Knižnica Východoslovenského múzea Košice   \n17  Knižnicia pri Kultúrnom centre Medzibodrožia a...   \n18        Knižnica Zemplínskeho múzea v Michalovciach   \n19                 Knižnica Baníckeho múzea v Rožňave   \n20                     Knižnica Galérie umelcov Spiša   \n21                               Knižnica Múzea Spiša   \n22  Knižnica Múzea a Kultúrneho centra južného Zem...   \n23                        Bábkové divadlo v Košiciach   \n24                       Divadlo Romathan v Košiciach   \n25                             Divadlo Thália Színház   \n26                                    Spišské divadlo   \n\n                       adresa                 mesto   psc  \\\n0                    Zimná 46      Spišská Nová Ves  5201   \n1                   Hlavná 27                Košice  4001   \n2           M.R. Štefánika 65              Trebišov  7501   \n3         Kostolné námestie 1            Michalovce  7101   \n4   Námestie Maratónu mieru 2  Košice - Staré Mesto  4001   \n5               Šafárikova 31               Rožňava  4801   \n6                    Letná 50      Spišská Nová Ves  5201   \n7                Hrnčiarska 9                Košice  4001   \n8                Betliarska 8               Rožňava  4801   \n9                   Boľská 41      Kráľovský Chlmec  7701   \n10                  Gorkého 1            Michalovce  7101   \n11                  Hlavná 48                Košice  4001   \n12                   Lipová 3               Rožňava  4801   \n13             Štefánikova 20            Michalovce  7101   \n14          M.R. Štefánika 53              Trebišov  7543   \n15                   Letná 28      Spišská Nová Ves  5201   \n16  Námestie Maratónu mieru 2  Košice - Staré Mesto  4001   \n17                  Hlavná 72      Kráľovský Chlmec  7701   \n18        Kostolné námestie 1            Michalovce  7101   \n19              Šafárikova 31               Rožňava  4801   \n20                   Zimná 46      Spišská Nová Ves  5201   \n21                   Letná 50      Spišská Nová Ves  5201   \n22     M. R. Štefánika 257/65              Trebišov  7501   \n23               Tajovského 4                Košice  4001   \n24              Štefánikova 4                Košice  4001   \n25                 Timonova 3                Košice  4001   \n26        Radničné námestie 4      Spišská Nová Ves  5201   \n\n                            kantaktna_    tel_kontak   tel_kont_1  result_num  \\\n0                   Mgr. Lucia Benická   053/4174625          NaN           0   \n1   Mgr. art. Dorota Kenderová, Art.D.   055/6817511          NaN           0   \n2              PhDr. Beáta Kereštanová   056/6727008  056/6722234           0   \n3            Mgr. Stanislava Rovňáková   056/6441093          NaN           0   \n4                  PhDr. Róbert Pollák   055/6220309          NaN           0   \n5                  Mgr. Pavol Lackanič   058/7343710          NaN           0   \n6                Ing. Zuzana Krempaská   053/4423757          NaN           0   \n7                    Michal Kupec, MA    055/6714592          NaN           0   \n8                  Mgr. Helena Novotná    0905730407          NaN           0   \n9           PaedDr. Gabriela Zvolenská   056/6321620          NaN           0   \n10              Mgr. Alena Navrátilová    0940944888          NaN           0   \n11                  Ing. Soňa Jakešová   055/6223291          NaN           0   \n12                 Mgr. Iveta Kyselová   058/7880911          NaN           0   \n13                PhDr. Alena Vasiľová   056/6441141   0948354554           0   \n14                  Ing. Janka Vargová  056/6724 222          NaN           0   \n15                 Mgr. Monika Tkáčová   053/4425250   0910239562           0   \n16                 PhDr. Robert Pollák    0556223061          NaN           0   \n17                                 NaN    0566321845          NaN           0   \n18                    Mgr. Maroš Demko    0566441093          NaN           0   \n19                  Mgr. Jozef Csobádi     058734710          NaN           0   \n20                  Mgr. Lucia Benická    0534174623          NaN           0   \n21               Ing. Zuzana Krempaská    0910873048          NaN           0   \n22              Mgr. Beáta Kereštanová    0566722234          NaN           0   \n23                Mgr. Pavol Hrehorčák   055/6220049          NaN           0   \n24               Karol Adam, Mgr. art.   055/6224980  055/7294166           0   \n25            Mgr. art. Jozsef Czajlík   055/6225867          NaN           0   \n26          Mgr. art. Radovan Michalov   053/4173280  053/4414842           0   \n\n        osm_id                                         display_na  category  \\\n0    118312662  181/46, Zimná, Sídlisko Východ, Spišská Nová V...  building   \n1    691083875  Východoslovenská galéria, 27, Hlavná, Stredné ...   amenity   \n2   7738072766  993/65, M. R. Štefánika, Sečovce, okres Trebiš...     place   \n3   7543339097  Michalovský hrad, Kostolné námestie, Sídlisko ...  historic   \n4     27035660  Východoslovenské múzeum, 2, Námestie Maratónu ...   tourism   \n5     54368344  Banícke múzeum - Historická expozícia a riadit...   tourism   \n6    118312594  57/50, Letná, Sídlisko Východ, Spišská Nová Ve...  building   \n7   8002200853  960/9, Hrnčiarska, Stredné Mesto, Košice - mes...     place   \n8     54468147  Dom tradičnej kultúry Gemera, 77/8, Betliarska...   amenity   \n9   3236174183  152/41, Boľská, Kráľovský Chlmec, okres Trebiš...     place   \n10  3094158495  Oldies Pub, 2954/1, Maxima Gorkého, Sídlisko V...   amenity   \n11  6264088517  Košice Región Turizmus, 48, Hlavná, Stredné Me...    office   \n12    71831728  14/3, Lipová, Krásnohorské Podhradie, okres Ro...  building   \n13    60746224  Základná umelecká škola, 3509/20, Štefánikova,...   amenity   \n14  7738072778  987/53, M. R. Štefánika, Sečovce, okres Trebiš...     place   \n15   118316825  33/28, Letná, Sídlisko Východ, Spišská Nová Ve...  building   \n16    27035660  Východoslovenské múzeum, 2, Námestie Maratónu ...   tourism   \n17    52945440  Hlavná, Kráľovský Chlmec, okres Trebišov, Koši...   highway   \n18  7543339097  Michalovský hrad, Kostolné námestie, Sídlisko ...  historic   \n19    54368344  Banícke múzeum - Historická expozícia a riadit...   tourism   \n20   118312662  181/46, Zimná, Sídlisko Východ, Spišská Nová V...  building   \n21   118312594  57/50, Letná, Sídlisko Východ, Spišská Nová Ve...  building   \n22   377966346  M. R. Štefánika, Trebišov, okres Trebišov, Koš...   highway   \n23   442964556  4, Tajovského, Stredné Mesto, Košice - mestská...     place   \n24   851200488  4, Štefánikova, Stredné Mesto, Košice - mestsk...     place   \n25   690558231  3, Timonova, Stredné Mesto, Košice - mestská č...     place   \n26   469750885  Spišské divadlo, Radničné námestie, Sídlisko V...   amenity   \n\n                type                                latlong  \\\n0                yes            48.943954,20.56509796425548   \n1        arts_centre                  48.7198959,21.2591497   \n2              house                  48.6984827,21.6556286   \n3             castle                   48.757925,21.9245052   \n4             museum         48.72724805,21.253314604510706   \n5             museum         48.65678355,20.531000681377897   \n6                yes         48.94485215,20.568610738473684   \n7              house                  48.7231234,21.2597069   \n8   community_centre          48.6637968,20.532315641666667   \n9              house                  48.4278061,21.9760615   \n10               pub                   48.7572733,21.919886   \n11       association                  48.7211666,21.2565603   \n12               yes          48.6519404,20.593911858754865   \n13            school          48.7527471,21.910741516414248   \n14             house                   48.698298,21.6543729   \n15               yes  48.945540550000004,20.564791484425143   \n16            museum         48.72724805,21.253314604510706   \n17          tertiary                    48.420028,21.980421   \n18            castle                   48.757925,21.9245052   \n19            museum         48.65678355,20.531000681377897   \n20               yes            48.943954,20.56509796425548   \n21               yes         48.94485215,20.568610738473684   \n22          tertiary                  48.6299318,21.7194097   \n23             house                  48.7189797,21.2540356   \n24             house                   48.7221307,21.262005   \n25             house                  48.7183424,21.2566125   \n26           theatre                  48.9429311,20.5714114   \n\n                                                  web  \n0                                  http://www.gus.sk/  \n1                                  http://www.vsg.sk/  \n2                             http://www.muzeumtv.sk/  \n3                     http://www.zemplinskemuzeum.sk/  \n4                             http://www.vsmuzeum.sk/  \n5                              https://www.banmuz.sk/  \n6                        https://www.muzeumspisa.com/  \n7                                         www.ckkk.sk  \n8                                  http://www.gos.sk/  \n9                                        www.kcmap.sk  \n10                               http://www.zosmi.sk/  \n11                                   https://vkjb.sk/  \n12                         http://www.kniznica-rv.sk/  \n13                                http://www.zkgz.sk/  \n14                          http://www.kniznicatv.sk/  \n15                              https://www.skcak.sk/  \n16             https://www.vsmuzeum.sk/o-nas/#library  \n17           https://www.kcmap.sk/regionalna-kniznica  \n18  https://www.zemplinskemuzeum.sk/kniznica/kniznica  \n19              https://www.banmuz.sk/sluzby/kniznica  \n20                   http://www.gus.sk/index.php/uvod  \n21                       https://www.muzeumspisa.com/  \n22                     https://www.muzeumtrebisov.sk/  \n23                                http://www.bdke.sk/  \n24                            http://www.romathan.sk/  \n25                       http://www.thaliaszinhaz.sk/  \n26                      http://www.spisskedivadlo.sk/  ",
      "text/html": "<div>\n<style scoped>\n    .dataframe tbody tr th:only-of-type {\n        vertical-align: middle;\n    }\n\n    .dataframe tbody tr th {\n        vertical-align: top;\n    }\n\n    .dataframe thead th {\n        text-align: right;\n    }\n</style>\n<table border=\"1\" class=\"dataframe\">\n  <thead>\n    <tr style=\"text-align: right;\">\n      <th></th>\n      <th>FID</th>\n      <th>geom</th>\n      <th>zriadovate</th>\n      <th>typ</th>\n      <th>nazov</th>\n      <th>adresa</th>\n      <th>mesto</th>\n      <th>psc</th>\n      <th>kantaktna_</th>\n      <th>tel_kontak</th>\n      <th>tel_kont_1</th>\n      <th>result_num</th>\n      <th>osm_id</th>\n      <th>display_na</th>\n      <th>category</th>\n      <th>type</th>\n      <th>latlong</th>\n      <th>web</th>\n    </tr>\n  </thead>\n  <tbody>\n    <tr>\n      <th>0</th>\n      <td>kulturne_org_zriad_ksk.1</td>\n      <td>POINT (48.943954 20.56509796425548)</td>\n      <td>Košický samosprávny kraj</td>\n      <td>galéria</td>\n      <td>Galéria umelcov Spiša</td>\n      <td>Zimná 46</td>\n      <td>Spišská Nová Ves</td>\n      <td>5201</td>\n      <td>Mgr. Lucia Benická</td>\n      <td>053/4174625</td>\n      <td>NaN</td>\n      <td>0</td>\n      <td>118312662</td>\n      <td>181/46, Zimná, Sídlisko Východ, Spišská Nová V...</td>\n      <td>building</td>\n      <td>yes</td>\n      <td>48.943954,20.56509796425548</td>\n      <td>http://www.gus.sk/</td>\n    </tr>\n    <tr>\n      <th>1</th>\n      <td>kulturne_org_zriad_ksk.2</td>\n      <td>POINT (48.7198959 21.2591497)</td>\n      <td>Košický samosprávny kraj</td>\n      <td>galéria</td>\n      <td>Východoslovenská galéria</td>\n      <td>Hlavná 27</td>\n      <td>Košice</td>\n      <td>4001</td>\n      <td>Mgr. art. Dorota Kenderová, Art.D.</td>\n      <td>055/6817511</td>\n      <td>NaN</td>\n      <td>0</td>\n      <td>691083875</td>\n      <td>Východoslovenská galéria, 27, Hlavná, Stredné ...</td>\n      <td>amenity</td>\n      <td>arts_centre</td>\n      <td>48.7198959,21.2591497</td>\n      <td>http://www.vsg.sk/</td>\n    </tr>\n    <tr>\n      <th>2</th>\n      <td>kulturne_org_zriad_ksk.3</td>\n      <td>POINT (48.619606909723935 21.721014705063926)</td>\n      <td>Košický samosprávny kraj</td>\n      <td>múzeum</td>\n      <td>Múzeum a Kultúrne centrum južného Zemplína</td>\n      <td>M.R. Štefánika 65</td>\n      <td>Trebišov</td>\n      <td>7501</td>\n      <td>PhDr. Beáta Kereštanová</td>\n      <td>056/6727008</td>\n      <td>056/6722234</td>\n      <td>0</td>\n      <td>7738072766</td>\n      <td>993/65, M. R. Štefánika, Sečovce, okres Trebiš...</td>\n      <td>place</td>\n      <td>house</td>\n      <td>48.6984827,21.6556286</td>\n      <td>http://www.muzeumtv.sk/</td>\n    </tr>\n    <tr>\n      <th>3</th>\n      <td>kulturne_org_zriad_ksk.4</td>\n      <td>POINT (48.75785204313532 21.924197818518557)</td>\n      <td>Košický samosprávny kraj</td>\n      <td>múzeum</td>\n      <td>Zemplínske múzeum Michalovce</td>\n      <td>Kostolné námestie 1</td>\n      <td>Michalovce</td>\n      <td>7101</td>\n      <td>Mgr. Stanislava Rovňáková</td>\n      <td>056/6441093</td>\n      <td>NaN</td>\n      <td>0</td>\n      <td>7543339097</td>\n      <td>Michalovský hrad, Kostolné námestie, Sídlisko ...</td>\n      <td>historic</td>\n      <td>castle</td>\n      <td>48.757925,21.9245052</td>\n      <td>http://www.zemplinskemuzeum.sk/</td>\n    </tr>\n    <tr>\n      <th>4</th>\n      <td>kulturne_org_zriad_ksk.5</td>\n      <td>POINT (48.72724805 21.253314604510706)</td>\n      <td>Košický samosprávny kraj</td>\n      <td>múzeum</td>\n      <td>Východoslovenské múzeum</td>\n      <td>Námestie Maratónu mieru 2</td>\n      <td>Košice - Staré Mesto</td>\n      <td>4001</td>\n      <td>PhDr. Róbert Pollák</td>\n      <td>055/6220309</td>\n      <td>NaN</td>\n      <td>0</td>\n      <td>27035660</td>\n      <td>Východoslovenské múzeum, 2, Námestie Maratónu ...</td>\n      <td>tourism</td>\n      <td>museum</td>\n      <td>48.72724805,21.253314604510706</td>\n      <td>http://www.vsmuzeum.sk/</td>\n    </tr>\n    <tr>\n      <th>5</th>\n      <td>kulturne_org_zriad_ksk.6</td>\n      <td>POINT (48.65674759407828 20.53097975821567)</td>\n      <td>Košický samosprávny kraj</td>\n      <td>múzeum</td>\n      <td>Banícke múzeum v Rožňave</td>\n      <td>Šafárikova 31</td>\n      <td>Rožňava</td>\n      <td>4801</td>\n      <td>Mgr. Pavol Lackanič</td>\n      <td>058/7343710</td>\n      <td>NaN</td>\n      <td>0</td>\n      <td>54368344</td>\n      <td>Banícke múzeum - Historická expozícia a riadit...</td>\n      <td>tourism</td>\n      <td>museum</td>\n      <td>48.65678355,20.531000681377897</td>\n      <td>https://www.banmuz.sk/</td>\n    </tr>\n    <tr>\n      <th>6</th>\n      <td>kulturne_org_zriad_ksk.7</td>\n      <td>POINT (48.94485215 20.568610738473684)</td>\n      <td>Košický samosprávny kraj</td>\n      <td>múzeum</td>\n      <td>Múzeum Spiša v Spišskej Novej Vsi</td>\n      <td>Letná 50</td>\n      <td>Spišská Nová Ves</td>\n      <td>5201</td>\n      <td>Ing. Zuzana Krempaská</td>\n      <td>053/4423757</td>\n      <td>NaN</td>\n      <td>0</td>\n      <td>118312594</td>\n      <td>57/50, Letná, Sídlisko Východ, Spišská Nová Ve...</td>\n      <td>building</td>\n      <td>yes</td>\n      <td>48.94485215,20.568610738473684</td>\n      <td>https://www.muzeumspisa.com/</td>\n    </tr>\n    <tr>\n      <th>7</th>\n      <td>kulturne_org_zriad_ksk.8</td>\n      <td>POINT (48.7231234 21.2597069)</td>\n      <td>Košický samosprávny kraj</td>\n      <td>kultúrne centrá a osvetové strediská</td>\n      <td>Centrum kultúry Košického kraja</td>\n      <td>Hrnčiarska 9</td>\n      <td>Košice</td>\n      <td>4001</td>\n      <td>Michal Kupec, MA</td>\n      <td>055/6714592</td>\n      <td>NaN</td>\n      <td>0</td>\n      <td>8002200853</td>\n      <td>960/9, Hrnčiarska, Stredné Mesto, Košice - mes...</td>\n      <td>place</td>\n      <td>house</td>\n      <td>48.7231234,21.2597069</td>\n      <td>www.ckkk.sk</td>\n    </tr>\n    <tr>\n      <th>8</th>\n      <td>kulturne_org_zriad_ksk.9</td>\n      <td>POINT (48.6637968 20.532315641666667)</td>\n      <td>Košický samosprávny kraj</td>\n      <td>kultúrne centrá a osvetové strediská</td>\n      <td>Gemerské osvetové stredisko</td>\n      <td>Betliarska 8</td>\n      <td>Rožňava</td>\n      <td>4801</td>\n      <td>Mgr. Helena Novotná</td>\n      <td>0905730407</td>\n      <td>NaN</td>\n      <td>0</td>\n      <td>54468147</td>\n      <td>Dom tradičnej kultúry Gemera, 77/8, Betliarska...</td>\n      <td>amenity</td>\n      <td>community_centre</td>\n      <td>48.6637968,20.532315641666667</td>\n      <td>http://www.gos.sk/</td>\n    </tr>\n    <tr>\n      <th>9</th>\n      <td>kulturne_org_zriad_ksk.10</td>\n      <td>POINT (48.4278061 21.9760615)</td>\n      <td>Košický samosprávny kraj</td>\n      <td>kultúrne centrá a osvetové strediská</td>\n      <td>Kultúrne centrum Medzibodrožia a Použia</td>\n      <td>Boľská 41</td>\n      <td>Kráľovský Chlmec</td>\n      <td>7701</td>\n      <td>PaedDr. Gabriela Zvolenská</td>\n      <td>056/6321620</td>\n      <td>NaN</td>\n      <td>0</td>\n      <td>3236174183</td>\n      <td>152/41, Boľská, Kráľovský Chlmec, okres Trebiš...</td>\n      <td>place</td>\n      <td>house</td>\n      <td>48.4278061,21.9760615</td>\n      <td>www.kcmap.sk</td>\n    </tr>\n    <tr>\n      <th>10</th>\n      <td>kulturne_org_zriad_ksk.11</td>\n      <td>POINT (48.7572733 21.919886)</td>\n      <td>Košický samosprávny kraj</td>\n      <td>kultúrne centrá a osvetové strediská</td>\n      <td>Zemplínske kultúrne centrum a hvezdáreň</td>\n      <td>Gorkého 1</td>\n      <td>Michalovce</td>\n      <td>7101</td>\n      <td>Mgr. Alena Navrátilová</td>\n      <td>0940944888</td>\n      <td>NaN</td>\n      <td>0</td>\n      <td>3094158495</td>\n      <td>Oldies Pub, 2954/1, Maxima Gorkého, Sídlisko V...</td>\n      <td>amenity</td>\n      <td>pub</td>\n      <td>48.7572733,21.919886</td>\n      <td>http://www.zosmi.sk/</td>\n    </tr>\n    <tr>\n      <th>11</th>\n      <td>kulturne_org_zriad_ksk.12</td>\n      <td>POINT (48.7211666 21.2565603)</td>\n      <td>Košický samosprávny kraj</td>\n      <td>knižnica</td>\n      <td>Verejná knižnica Jána Bocatia v Košiciach</td>\n      <td>Hlavná 48</td>\n      <td>Košice</td>\n      <td>4001</td>\n      <td>Ing. Soňa Jakešová</td>\n      <td>055/6223291</td>\n      <td>NaN</td>\n      <td>0</td>\n      <td>6264088517</td>\n      <td>Košice Región Turizmus, 48, Hlavná, Stredné Me...</td>\n      <td>office</td>\n      <td>association</td>\n      <td>48.7211666,21.2565603</td>\n      <td>https://vkjb.sk/</td>\n    </tr>\n    <tr>\n      <th>12</th>\n      <td>kulturne_org_zriad_ksk.13</td>\n      <td>POINT (48.660526908444055 20.52662134189322)</td>\n      <td>Košický samosprávny kraj</td>\n      <td>knižnica</td>\n      <td>Gemerská knižnica Pavla Dobšinského v Rožňave</td>\n      <td>Lipová 3</td>\n      <td>Rožňava</td>\n      <td>4801</td>\n      <td>Mgr. Iveta Kyselová</td>\n      <td>058/7880911</td>\n      <td>NaN</td>\n      <td>0</td>\n      <td>71831728</td>\n      <td>14/3, Lipová, Krásnohorské Podhradie, okres Ro...</td>\n      <td>building</td>\n      <td>yes</td>\n      <td>48.6519404,20.593911858754865</td>\n      <td>http://www.kniznica-rv.sk/</td>\n    </tr>\n    <tr>\n      <th>13</th>\n      <td>kulturne_org_zriad_ksk.14</td>\n      <td>POINT (48.75312099267866 21.91131520479822)</td>\n      <td>Košický samosprávny kraj</td>\n      <td>knižnica</td>\n      <td>Zemplínska knižnica Gorazda Zvonického v Micha...</td>\n      <td>Štefánikova 20</td>\n      <td>Michalovce</td>\n      <td>7101</td>\n      <td>PhDr. Alena Vasiľová</td>\n      <td>056/6441141</td>\n      <td>0948354554</td>\n      <td>0</td>\n      <td>60746224</td>\n      <td>Základná umelecká škola, 3509/20, Štefánikova,...</td>\n      <td>amenity</td>\n      <td>school</td>\n      <td>48.7527471,21.910741516414248</td>\n      <td>http://www.zkgz.sk/</td>\n    </tr>\n    <tr>\n      <th>14</th>\n      <td>kulturne_org_zriad_ksk.15</td>\n      <td>POINT (48.62390433833304 21.72057825069175)</td>\n      <td>Košický samosprávny kraj</td>\n      <td>knižnica</td>\n      <td>Zemplínska knižnica v Trebišove</td>\n      <td>M.R. Štefánika 53</td>\n      <td>Trebišov</td>\n      <td>7543</td>\n      <td>Ing. Janka Vargová</td>\n      <td>056/6724 222</td>\n      <td>NaN</td>\n      <td>0</td>\n      <td>7738072778</td>\n      <td>987/53, M. R. Štefánika, Sečovce, okres Trebiš...</td>\n      <td>place</td>\n      <td>house</td>\n      <td>48.698298,21.6543729</td>\n      <td>http://www.kniznicatv.sk/</td>\n    </tr>\n    <tr>\n      <th>15</th>\n      <td>kulturne_org_zriad_ksk.16</td>\n      <td>POINT (48.945540550000004 20.564791484425143)</td>\n      <td>Košický samosprávny kraj</td>\n      <td>knižnica</td>\n      <td>Spišské kultúrne centrum a knižnica</td>\n      <td>Letná 28</td>\n      <td>Spišská Nová Ves</td>\n      <td>5201</td>\n      <td>Mgr. Monika Tkáčová</td>\n      <td>053/4425250</td>\n      <td>0910239562</td>\n      <td>0</td>\n      <td>118316825</td>\n      <td>33/28, Letná, Sídlisko Východ, Spišská Nová Ve...</td>\n      <td>building</td>\n      <td>yes</td>\n      <td>48.945540550000004,20.564791484425143</td>\n      <td>https://www.skcak.sk/</td>\n    </tr>\n    <tr>\n      <th>16</th>\n      <td>kulturne_org_zriad_ksk.17</td>\n      <td>POINT (48.727314552067426 21.25327416259429)</td>\n      <td>Košický samosprávny kraj</td>\n      <td>knižnica</td>\n      <td>Knižnica Východoslovenského múzea Košice</td>\n      <td>Námestie Maratónu mieru 2</td>\n      <td>Košice - Staré Mesto</td>\n      <td>4001</td>\n      <td>PhDr. Robert Pollák</td>\n      <td>0556223061</td>\n      <td>NaN</td>\n      <td>0</td>\n      <td>27035660</td>\n      <td>Východoslovenské múzeum, 2, Námestie Maratónu ...</td>\n      <td>tourism</td>\n      <td>museum</td>\n      <td>48.72724805,21.253314604510706</td>\n      <td>https://www.vsmuzeum.sk/o-nas/#library</td>\n    </tr>\n    <tr>\n      <th>17</th>\n      <td>kulturne_org_zriad_ksk.18</td>\n      <td>POINT (48.420028 21.980421)</td>\n      <td>Košický samosprávny kraj</td>\n      <td>knižnica</td>\n      <td>Knižnicia pri Kultúrnom centre Medzibodrožia a...</td>\n      <td>Hlavná 72</td>\n      <td>Kráľovský Chlmec</td>\n      <td>7701</td>\n      <td>NaN</td>\n      <td>0566321845</td>\n      <td>NaN</td>\n      <td>0</td>\n      <td>52945440</td>\n      <td>Hlavná, Kráľovský Chlmec, okres Trebišov, Koši...</td>\n      <td>highway</td>\n      <td>tertiary</td>\n      <td>48.420028,21.980421</td>\n      <td>https://www.kcmap.sk/regionalna-kniznica</td>\n    </tr>\n    <tr>\n      <th>18</th>\n      <td>kulturne_org_zriad_ksk.19</td>\n      <td>POINT (48.75776144131827 21.924246001449756)</td>\n      <td>Košický samosprávny kraj</td>\n      <td>knižnica</td>\n      <td>Knižnica Zemplínskeho múzea v Michalovciach</td>\n      <td>Kostolné námestie 1</td>\n      <td>Michalovce</td>\n      <td>7101</td>\n      <td>Mgr. Maroš Demko</td>\n      <td>0566441093</td>\n      <td>NaN</td>\n      <td>0</td>\n      <td>7543339097</td>\n      <td>Michalovský hrad, Kostolné námestie, Sídlisko ...</td>\n      <td>historic</td>\n      <td>castle</td>\n      <td>48.757925,21.9245052</td>\n      <td>https://www.zemplinskemuzeum.sk/kniznica/kniznica</td>\n    </tr>\n    <tr>\n      <th>19</th>\n      <td>kulturne_org_zriad_ksk.20</td>\n      <td>POINT (48.656809490442456 20.530992263018135)</td>\n      <td>Košický samosprávny kraj</td>\n      <td>knižnica</td>\n      <td>Knižnica Baníckeho múzea v Rožňave</td>\n      <td>Šafárikova 31</td>\n      <td>Rožňava</td>\n      <td>4801</td>\n      <td>Mgr. Jozef Csobádi</td>\n      <td>058734710</td>\n      <td>NaN</td>\n      <td>0</td>\n      <td>54368344</td>\n      <td>Banícke múzeum - Historická expozícia a riadit...</td>\n      <td>tourism</td>\n      <td>museum</td>\n      <td>48.65678355,20.531000681377897</td>\n      <td>https://www.banmuz.sk/sluzby/kniznica</td>\n    </tr>\n    <tr>\n      <th>20</th>\n      <td>kulturne_org_zriad_ksk.21</td>\n      <td>POINT (48.943954 20.56509796425548)</td>\n      <td>Košický samosprávny kraj</td>\n      <td>knižnica</td>\n      <td>Knižnica Galérie umelcov Spiša</td>\n      <td>Zimná 46</td>\n      <td>Spišská Nová Ves</td>\n      <td>5201</td>\n      <td>Mgr. Lucia Benická</td>\n      <td>0534174623</td>\n      <td>NaN</td>\n      <td>0</td>\n      <td>118312662</td>\n      <td>181/46, Zimná, Sídlisko Východ, Spišská Nová V...</td>\n      <td>building</td>\n      <td>yes</td>\n      <td>48.943954,20.56509796425548</td>\n      <td>http://www.gus.sk/index.php/uvod</td>\n    </tr>\n    <tr>\n      <th>21</th>\n      <td>kulturne_org_zriad_ksk.22</td>\n      <td>POINT (48.94485215 20.568610738473684)</td>\n      <td>Košický samosprávny kraj</td>\n      <td>knižnica</td>\n      <td>Knižnica Múzea Spiša</td>\n      <td>Letná 50</td>\n      <td>Spišská Nová Ves</td>\n      <td>5201</td>\n      <td>Ing. Zuzana Krempaská</td>\n      <td>0910873048</td>\n      <td>NaN</td>\n      <td>0</td>\n      <td>118312594</td>\n      <td>57/50, Letná, Sídlisko Východ, Spišská Nová Ve...</td>\n      <td>building</td>\n      <td>yes</td>\n      <td>48.94485215,20.568610738473684</td>\n      <td>https://www.muzeumspisa.com/</td>\n    </tr>\n    <tr>\n      <th>22</th>\n      <td>kulturne_org_zriad_ksk.23</td>\n      <td>POINT (48.61957187696647 21.72117513456911)</td>\n      <td>Košický samosprávny kraj</td>\n      <td>knižnica</td>\n      <td>Knižnica Múzea a Kultúrneho centra južného Zem...</td>\n      <td>M. R. Štefánika 257/65</td>\n      <td>Trebišov</td>\n      <td>7501</td>\n      <td>Mgr. Beáta Kereštanová</td>\n      <td>0566722234</td>\n      <td>NaN</td>\n      <td>0</td>\n      <td>377966346</td>\n      <td>M. R. Štefánika, Trebišov, okres Trebišov, Koš...</td>\n      <td>highway</td>\n      <td>tertiary</td>\n      <td>48.6299318,21.7194097</td>\n      <td>https://www.muzeumtrebisov.sk/</td>\n    </tr>\n    <tr>\n      <th>23</th>\n      <td>kulturne_org_zriad_ksk.24</td>\n      <td>POINT (48.7189797 21.2540356)</td>\n      <td>Košický samosprávny kraj</td>\n      <td>divadlo</td>\n      <td>Bábkové divadlo v Košiciach</td>\n      <td>Tajovského 4</td>\n      <td>Košice</td>\n      <td>4001</td>\n      <td>Mgr. Pavol Hrehorčák</td>\n      <td>055/6220049</td>\n      <td>NaN</td>\n      <td>0</td>\n      <td>442964556</td>\n      <td>4, Tajovského, Stredné Mesto, Košice - mestská...</td>\n      <td>place</td>\n      <td>house</td>\n      <td>48.7189797,21.2540356</td>\n      <td>http://www.bdke.sk/</td>\n    </tr>\n    <tr>\n      <th>24</th>\n      <td>kulturne_org_zriad_ksk.25</td>\n      <td>POINT (48.7221307 21.262005)</td>\n      <td>Košický samosprávny kraj</td>\n      <td>divadlo</td>\n      <td>Divadlo Romathan v Košiciach</td>\n      <td>Štefánikova 4</td>\n      <td>Košice</td>\n      <td>4001</td>\n      <td>Karol Adam, Mgr. art.</td>\n      <td>055/6224980</td>\n      <td>055/7294166</td>\n      <td>0</td>\n      <td>851200488</td>\n      <td>4, Štefánikova, Stredné Mesto, Košice - mestsk...</td>\n      <td>place</td>\n      <td>house</td>\n      <td>48.7221307,21.262005</td>\n      <td>http://www.romathan.sk/</td>\n    </tr>\n    <tr>\n      <th>25</th>\n      <td>kulturne_org_zriad_ksk.26</td>\n      <td>POINT (48.7183424 21.2566125)</td>\n      <td>Košický samosprávny kraj</td>\n      <td>divadlo</td>\n      <td>Divadlo Thália Színház</td>\n      <td>Timonova 3</td>\n      <td>Košice</td>\n      <td>4001</td>\n      <td>Mgr. art. Jozsef Czajlík</td>\n      <td>055/6225867</td>\n      <td>NaN</td>\n      <td>0</td>\n      <td>690558231</td>\n      <td>3, Timonova, Stredné Mesto, Košice - mestská č...</td>\n      <td>place</td>\n      <td>house</td>\n      <td>48.7183424,21.2566125</td>\n      <td>http://www.thaliaszinhaz.sk/</td>\n    </tr>\n    <tr>\n      <th>26</th>\n      <td>kulturne_org_zriad_ksk.27</td>\n      <td>POINT (48.9429311 20.5714114)</td>\n      <td>Košický samosprávny kraj</td>\n      <td>divadlo</td>\n      <td>Spišské divadlo</td>\n      <td>Radničné námestie 4</td>\n      <td>Spišská Nová Ves</td>\n      <td>5201</td>\n      <td>Mgr. art. Radovan Michalov</td>\n      <td>053/4173280</td>\n      <td>053/4414842</td>\n      <td>0</td>\n      <td>469750885</td>\n      <td>Spišské divadlo, Radničné námestie, Sídlisko V...</td>\n      <td>amenity</td>\n      <td>theatre</td>\n      <td>48.9429311,20.5714114</td>\n      <td>http://www.spisskedivadlo.sk/</td>\n    </tr>\n  </tbody>\n</table>\n</div>"
     },
     "execution_count": 11,
     "metadata": {},
     "output_type": "execute_result"
    }
   ],
   "source": [
    "df_culture2"
   ],
   "metadata": {
    "collapsed": false
   }
  },
  {
   "cell_type": "code",
   "execution_count": 12,
   "outputs": [],
   "source": [
    "from geopy.geocoders import Nominatim"
   ],
   "metadata": {
    "collapsed": false
   }
  },
  {
   "cell_type": "code",
   "execution_count": 13,
   "outputs": [],
   "source": [
    "geolocator = Nominatim(user_agent=\"DTITITTT_HACK\")"
   ],
   "metadata": {
    "collapsed": false
   }
  },
  {
   "cell_type": "code",
   "execution_count": 67,
   "outputs": [
    {
     "name": "stdout",
     "output_type": "stream",
     "text": [
      "(48.7196625, 21.2555876)\n"
     ]
    },
    {
     "name": "stderr",
     "output_type": "stream",
     "text": [
      "/Users/hlibokymaros/opt/anaconda3/envs/KKUI-test_ai/lib/python3.9/site-packages/pandas/core/indexing.py:1817: SettingWithCopyWarning: \n",
      "A value is trying to be set on a copy of a slice from a DataFrame.\n",
      "Try using .loc[row_indexer,col_indexer] = value instead\n",
      "\n",
      "See the caveats in the documentation: https://pandas.pydata.org/pandas-docs/stable/user_guide/indexing.html#returning-a-view-versus-a-copy\n",
      "  self._setitem_single_column(loc, value, pi)\n"
     ]
    },
    {
     "name": "stdout",
     "output_type": "stream",
     "text": [
      "(48.7242178, 21.2558415)\n",
      "(48.8513322, 20.9330838)\n",
      "(48.7156364, 21.2170658)\n",
      "(48.7005995, 21.2480495)\n",
      "(48.6033415, 22.1090316)\n",
      "(48.6822156, 21.8149514)\n",
      "(48.7025539, 20.50628470646084)\n",
      "(48.6317432, 22.1527041)\n",
      "(48.4121741, 22.05848014568926)\n",
      "(48.5145595, 20.3829947)\n",
      "(48.46856025, 21.939089518512098)\n",
      "(48.39251805, 21.70419599229937)\n",
      "(48.6301855, 20.7631843)\n",
      "(48.4864159, 21.81974616319446)\n",
      "(48.4877182, 20.3408449)\n",
      "(48.5500174, 21.5531471)\n",
      "(48.630285900000004, 20.496087641553153)\n",
      "(48.6327321, 21.9295259)\n",
      "(48.468638999999996, 21.762521101132954)\n",
      "(48.76659675, 21.44235814028572)\n",
      "(48.6066957, 21.327687800594255)\n",
      "(48.4636529, 21.6478797)\n",
      "(48.5402473, 22.0270804)\n",
      "(48.4162784, 22.0895593)\n",
      "(48.4946984, 20.3741472)\n",
      "(48.9489265, 20.6189467)\n",
      "(48.7310145, 21.5854257)\n",
      "(48.8200991, 20.3658256)\n",
      "(48.6071623, 20.9513666)\n",
      "(48.6401767, 20.6575017)\n",
      "(48.8000326, 21.2507048)\n",
      "(48.741144, 21.413366646028148)\n",
      "(48.6309699, 21.8419382)\n",
      "(48.8522907, 20.9335571)\n",
      "(48.7150597, 20.4791164)\n",
      "(48.7587458, 20.417559277126635)\n",
      "(48.6670748, 20.838034115228137)\n",
      "(48.6617274, 21.8863749)\n",
      "(48.7521871, 22.0198267)\n",
      "(48.7999189, 21.4780877)\n",
      "(48.9604308, 20.7273318)\n",
      "(48.702895, 21.7660517)\n",
      "(48.9757601, 20.408908)\n",
      "(48.5463726, 21.78621401681818)\n",
      "(48.5226566, 21.6902781)\n",
      "(48.6061438, 20.7505388)\n",
      "(48.6985591, 21.71000988061681)\n",
      "(48.9416983, 20.9113928)\n",
      "(48.5816401, 20.6362707)\n",
      "(48.7777034, 22.2389167)\n",
      "(48.9250854, 20.6988235)\n",
      "(48.9913005, 20.5257877)\n",
      "(48.942577, 20.6631761)\n",
      "(48.5537023, 20.970401130392354)\n",
      "(48.68288365, 20.973996987733155)\n",
      "(48.63204435, 20.55003689340841)\n",
      "(48.6127095, 21.5273684)\n",
      "(48.52837495, 21.58226829735387)\n",
      "(48.826129, 21.4148091)\n",
      "(48.9209559, 20.938652)\n",
      "(48.7445889, 20.3714552)\n",
      "(48.6455516, 21.3318135)\n",
      "(48.7134398, 21.2555227)\n",
      "(48.7099833, 21.259231)\n",
      "(48.7337135, 21.2382339)\n",
      "(48.7391089, 21.2530601)\n",
      "(48.728027, 21.241959)\n",
      "(48.728027, 21.241959)\n",
      "(48.7184209, 21.25856956410606)\n",
      "(48.72128585, 21.245435366378164)\n",
      "(48.692731800000004, 21.344062993568357)\n",
      "(48.638382050000004, 20.697646101865097)\n",
      "(48.6532949, 20.5994028)\n",
      "(48.75885205, 21.641617088187772)\n",
      "(48.9109721, 20.8743879)\n",
      "(48.578092, 21.56911386934598)\n",
      "(48.853769, 21.22048120826178)\n",
      "(48.514982950000004, 21.719149379784056)\n",
      "(48.5398392, 21.6264497)\n",
      "(48.7988069, 21.8162484)\n",
      "(48.97961995, 20.467144140520627)\n",
      "(48.635183, 20.7230985)\n",
      "(48.7688977, 22.0416599)\n",
      "(48.6742702, 21.1722358)\n",
      "(48.5802818, 21.8493809)\n",
      "(48.6826079, 21.6138042)\n",
      "(48.3960211, 21.9505106)\n",
      "(48.8919166, 21.0106106)\n",
      "(48.7300051, 20.3258472)\n",
      "(48.6995369, 20.8926298)\n",
      "(48.5155267, 21.6250312)\n",
      "(48.754847, 21.9138446)\n",
      "(48.754407, 21.9389163)\n",
      "(48.749521, 21.917284)\n",
      "(48.8061124, 20.8065279)\n",
      "(48.5981246, 21.01858557347122)\n",
      "(48.6125404, 20.9988456)\n",
      "(48.84170705, 20.62097928080736)\n",
      "(48.72472605, 20.414608879916784)\n",
      "(48.7276683, 21.1420822)\n",
      "(48.5828204, 21.6396404)\n",
      "(48.51967845, 21.74525381634505)\n",
      "(48.6508758, 21.677637031993342)\n",
      "(48.932613, 20.6333367)\n",
      "(48.6825028, 20.32676397219205)\n",
      "(48.9310979, 20.7500657)\n",
      "(48.96418115, 20.82111088659385)\n",
      "(48.787452, 21.058196936594275)\n",
      "(48.74347005, 17.310735420612712)\n",
      "(48.6775171, 20.606494833316187)\n",
      "(48.6465085, 21.0627924)\n",
      "(48.7504314, 21.7130614)\n",
      "(48.5923954, 20.38519843703704)\n",
      "(48.6263273, 21.6394521)\n",
      "(48.5479184, 20.4060074)\n",
      "(48.5426925, 20.400881598621567)\n",
      "(48.815062850000004, 21.32548209081363)\n",
      "(48.8175554, 22.300902)\n",
      "(48.7094422, 20.9717243)\n",
      "(48.8835638, 20.7307526)\n",
      "(48.7265645, 21.8538458)\n",
      "(48.3928087, 22.0004766)\n",
      "(48.4582809, 21.860218)\n",
      "(48.7911111, 20.2855556)\n",
      "(48.7027123, 20.301128328228664)\n",
      "(48.755650700000004, 21.342499888936104)\n",
      "(48.6642485, 20.4418552)\n",
      "(48.65927375, 20.48990922130728)\n",
      "(48.8786333, 20.6848306)\n",
      "(48.5291179, 22.1421721)\n",
      "(48.7077147, 21.3450074)\n",
      "(48.7022636, 21.6598697)\n",
      "(48.5178705, 21.80383966910802)\n",
      "(48.5890246, 21.3771265)\n",
      "(48.6368124, 21.4750777)\n",
      "(48.961078, 20.8415801)\n",
      "(48.6038175, 21.9223548)\n",
      "(48.7126291, 20.2808872)\n",
      "(48.401200349999996, 21.668892086196188)\n",
      "(48.8816609, 20.8465023)\n",
      "(48.7460455, 20.7740444)\n",
      "(48.7295503, 20.7390339)\n",
      "(48.811544350000005, 21.22004875881005)\n",
      "(48.610356, 21.2257963)\n",
      "(48.404145, 21.808779)\n",
      "(48.9564708, 20.5669799)\n",
      "(48.9486601, 20.7946761)\n",
      "(48.9491198, 20.7056366)\n",
      "(48.875004, 21.8366066)\n",
      "(48.3793435, 21.7579441)\n",
      "(48.6756781, 21.1081344)\n",
      "(48.6591561, 20.3643391)\n",
      "(48.8055054, 20.7232256)\n",
      "(48.9084797, 20.5891863)\n",
      "(48.698587, 21.8039528)\n",
      "(48.601328699999996, 20.878060078024976)\n",
      "(48.63357, 21.2979851)\n",
      "(48.5735649, 21.16947406329416)\n",
      "(48.4696376, 21.6788342)\n",
      "(48.55417115, 22.076059648609615)\n",
      "(48.65981, 21.6109428)\n",
      "(48.3869291, 21.9073243)\n",
      "(48.775848350000004, 20.41227264259575)\n",
      "(48.5711276, 21.9902012)\n",
      "(48.9550699, 20.8614798)\n",
      "(48.634412, 21.38802590976539)\n",
      "(48.7871237, 20.3214618)\n",
      "(48.4760058, 21.9048172)\n",
      "(48.6460147, 21.5731369)\n",
      "(48.7524598, 21.0058198)\n",
      "(48.6020723, 21.3484138)\n"
     ]
    }
   ],
   "source": [
    "for idx, item in df_culture1.iterrows():\n",
    "\n",
    "    query = dict({\n",
    "        \"country\" : \"slovakia\",\n",
    "        \"street\" : item[\"adresa\"],\n",
    "        \"city\" : item[\"obec\"]\n",
    "    })\n",
    "    try:\n",
    "        location = geolocator.geocode(query)\n",
    "        print((location.latitude, location.longitude))\n",
    "        df_culture1.loc[idx, \"x\"] = location.latitude\n",
    "        df_culture1.loc[idx, \"y\"] = location.longitude\n",
    "    except:\n",
    "        print(idx)"
   ],
   "metadata": {
    "collapsed": false
   }
  },
  {
   "cell_type": "code",
   "execution_count": 68,
   "outputs": [],
   "source": [
    "df_culture1 = df_culture1.loc[df_culture1.x.notna()]"
   ],
   "metadata": {
    "collapsed": false
   }
  },
  {
   "cell_type": "code",
   "execution_count": 69,
   "outputs": [],
   "source": [
    "df_culture2[\"x\"] = df_culture2.apply(lambda x: x[\"latlong\"].split(\",\")[0], axis=1)\n",
    "df_culture2[\"y\"] = df_culture2.apply(lambda x: x[\"latlong\"].split(\",\")[1], axis=1)"
   ],
   "metadata": {
    "collapsed": false
   }
  },
  {
   "cell_type": "code",
   "execution_count": 70,
   "outputs": [
    {
     "data": {
      "text/plain": "0      20.56509796425548\n1             21.2591497\n2             21.6556286\n3             21.9245052\n4     21.253314604510706\n5     20.531000681377897\n6     20.568610738473684\n7             21.2597069\n8     20.532315641666667\n9             21.9760615\n10             21.919886\n11            21.2565603\n12    20.593911858754865\n13    21.910741516414248\n14            21.6543729\n15    20.564791484425143\n16    21.253314604510706\n17             21.980421\n18            21.9245052\n19    20.531000681377897\n20     20.56509796425548\n21    20.568610738473684\n22            21.7194097\n23            21.2540356\n24             21.262005\n25            21.2566125\n26            20.5714114\ndtype: object"
     },
     "execution_count": 70,
     "metadata": {},
     "output_type": "execute_result"
    }
   ],
   "source": [
    "df_culture2.apply(lambda x: x[\"latlong\"].split(\",\")[1], axis=1)"
   ],
   "metadata": {
    "collapsed": false
   }
  },
  {
   "cell_type": "code",
   "execution_count": 71,
   "outputs": [
    {
     "data": {
      "text/plain": "{'FID',\n 'adresa',\n 'geom',\n 'nazov',\n 'obec',\n 'okres',\n 'psc',\n 'tel_kontak',\n 'typ',\n 'x',\n 'y',\n 'zriadovate'}"
     },
     "execution_count": 71,
     "metadata": {},
     "output_type": "execute_result"
    }
   ],
   "source": [
    "set(df_culture1.columns)"
   ],
   "metadata": {
    "collapsed": false
   }
  },
  {
   "cell_type": "code",
   "execution_count": 71,
   "outputs": [],
   "source": [],
   "metadata": {
    "collapsed": false
   }
  },
  {
   "cell_type": "code",
   "execution_count": 72,
   "outputs": [
    {
     "data": {
      "text/plain": "{'FID',\n 'adresa',\n 'category',\n 'display_na',\n 'geom',\n 'kantaktna_',\n 'latlong',\n 'mesto',\n 'nazov',\n 'osm_id',\n 'psc',\n 'result_num',\n 'tel_kont_1',\n 'tel_kontak',\n 'typ',\n 'type',\n 'web',\n 'x',\n 'y',\n 'zriadovate'}"
     },
     "execution_count": 72,
     "metadata": {},
     "output_type": "execute_result"
    }
   ],
   "source": [
    "set(df_culture2.columns)"
   ],
   "metadata": {
    "collapsed": false
   }
  },
  {
   "cell_type": "code",
   "execution_count": 73,
   "outputs": [],
   "source": [
    "df_culture_all = pd.concat([df_culture1[[\"adresa\", \"nazov\", \"x\", \"y\"]],df_culture2[[\"adresa\", \"nazov\",  \"x\", \"y\"]]])"
   ],
   "metadata": {
    "collapsed": false
   }
  },
  {
   "cell_type": "code",
   "execution_count": 74,
   "outputs": [],
   "source": [
    "df_culture_all.to_csv('culture.csv')"
   ],
   "metadata": {
    "collapsed": false
   }
  },
  {
   "cell_type": "code",
   "execution_count": 75,
   "outputs": [
    {
     "data": {
      "text/plain": "                    adresa                                              nazov  \\\n0             Alžbetina 20                           Múzeum Vojtecha Löfflera   \n1                Hlavná 88                         Slovenské technické múzeum   \n2       Banícke námestie 8                             Banícke múzeum Gelnica   \n3             Cottbuská 36                       Súkromné etnografické múzeum   \n4                Alejová 2                                     SZILCAR múzeum   \n..                     ...                                                ...   \n22  M. R. Štefánika 257/65  Knižnica Múzea a Kultúrneho centra južného Zem...   \n23            Tajovského 4                        Bábkové divadlo v Košiciach   \n24           Štefánikova 4                       Divadlo Romathan v Košiciach   \n25              Timonova 3                             Divadlo Thália Színház   \n26     Radničné námestie 4                                    Spišské divadlo   \n\n             x           y  \n0    48.719662   21.255588  \n1    48.724218   21.255841  \n2    48.851332   20.933084  \n3    48.715636   21.217066  \n4      48.7006    21.24805  \n..         ...         ...  \n22  48.6299318  21.7194097  \n23  48.7189797  21.2540356  \n24  48.7221307   21.262005  \n25  48.7183424  21.2566125  \n26  48.9429311  20.5714114  \n\n[199 rows x 4 columns]",
      "text/html": "<div>\n<style scoped>\n    .dataframe tbody tr th:only-of-type {\n        vertical-align: middle;\n    }\n\n    .dataframe tbody tr th {\n        vertical-align: top;\n    }\n\n    .dataframe thead th {\n        text-align: right;\n    }\n</style>\n<table border=\"1\" class=\"dataframe\">\n  <thead>\n    <tr style=\"text-align: right;\">\n      <th></th>\n      <th>adresa</th>\n      <th>nazov</th>\n      <th>x</th>\n      <th>y</th>\n    </tr>\n  </thead>\n  <tbody>\n    <tr>\n      <th>0</th>\n      <td>Alžbetina 20</td>\n      <td>Múzeum Vojtecha Löfflera</td>\n      <td>48.719662</td>\n      <td>21.255588</td>\n    </tr>\n    <tr>\n      <th>1</th>\n      <td>Hlavná 88</td>\n      <td>Slovenské technické múzeum</td>\n      <td>48.724218</td>\n      <td>21.255841</td>\n    </tr>\n    <tr>\n      <th>2</th>\n      <td>Banícke námestie 8</td>\n      <td>Banícke múzeum Gelnica</td>\n      <td>48.851332</td>\n      <td>20.933084</td>\n    </tr>\n    <tr>\n      <th>3</th>\n      <td>Cottbuská 36</td>\n      <td>Súkromné etnografické múzeum</td>\n      <td>48.715636</td>\n      <td>21.217066</td>\n    </tr>\n    <tr>\n      <th>4</th>\n      <td>Alejová 2</td>\n      <td>SZILCAR múzeum</td>\n      <td>48.7006</td>\n      <td>21.24805</td>\n    </tr>\n    <tr>\n      <th>...</th>\n      <td>...</td>\n      <td>...</td>\n      <td>...</td>\n      <td>...</td>\n    </tr>\n    <tr>\n      <th>22</th>\n      <td>M. R. Štefánika 257/65</td>\n      <td>Knižnica Múzea a Kultúrneho centra južného Zem...</td>\n      <td>48.6299318</td>\n      <td>21.7194097</td>\n    </tr>\n    <tr>\n      <th>23</th>\n      <td>Tajovského 4</td>\n      <td>Bábkové divadlo v Košiciach</td>\n      <td>48.7189797</td>\n      <td>21.2540356</td>\n    </tr>\n    <tr>\n      <th>24</th>\n      <td>Štefánikova 4</td>\n      <td>Divadlo Romathan v Košiciach</td>\n      <td>48.7221307</td>\n      <td>21.262005</td>\n    </tr>\n    <tr>\n      <th>25</th>\n      <td>Timonova 3</td>\n      <td>Divadlo Thália Színház</td>\n      <td>48.7183424</td>\n      <td>21.2566125</td>\n    </tr>\n    <tr>\n      <th>26</th>\n      <td>Radničné námestie 4</td>\n      <td>Spišské divadlo</td>\n      <td>48.9429311</td>\n      <td>20.5714114</td>\n    </tr>\n  </tbody>\n</table>\n<p>199 rows × 4 columns</p>\n</div>"
     },
     "execution_count": 75,
     "metadata": {},
     "output_type": "execute_result"
    }
   ],
   "source": [
    "df_culture_all"
   ],
   "metadata": {
    "collapsed": false
   }
  },
  {
   "cell_type": "code",
   "execution_count": null,
   "outputs": [],
   "source": [],
   "metadata": {
    "collapsed": false,
    "pycharm": {
     "is_executing": true
    }
   }
  },
  {
   "cell_type": "code",
   "execution_count": 75,
   "outputs": [],
   "source": [],
   "metadata": {
    "collapsed": false
   }
  }
 ],
 "metadata": {
  "kernelspec": {
   "display_name": "Python 3",
   "language": "python",
   "name": "python3"
  },
  "language_info": {
   "codemirror_mode": {
    "name": "ipython",
    "version": 2
   },
   "file_extension": ".py",
   "mimetype": "text/x-python",
   "name": "python",
   "nbconvert_exporter": "python",
   "pygments_lexer": "ipython2",
   "version": "2.7.6"
  }
 },
 "nbformat": 4,
 "nbformat_minor": 0
}
